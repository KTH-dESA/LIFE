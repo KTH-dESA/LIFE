{
 "cells": [
  {
   "cell_type": "code",
   "execution_count": null,
   "metadata": {},
   "outputs": [],
   "source": [
    "import plotly.graph_objects as go\n",
    "from plotly.subplots import make_subplots\n",
    "\n",
    "\n",
    "import pandas as pd\n",
    "pd.options.plotting.backend = \"plotly\"\n",
    "from plotly import express as ex\n",
    "from tqdm import trange\n",
    "import os"
   ]
  },
  {
   "cell_type": "markdown",
   "metadata": {},
   "source": [
    "# LIFE Academy Exercise\n",
    "\n",
    "This material draws upon, adapts and extends Lab 2 from MJ2380, authored by Roberto Heredia Fonseca, \n",
    "Shravan Kumar and Francesco Gardumi and the OpTIMUS.community \n",
    "and is licensed under the [Creative Commons Attribution 4.0 International License](http://creativecommons.org/licenses/by/4.0/).\n",
    "\n",
    "This notebook provides a simple hands-on introduction to energy system modelling using OSeMOSYS.\n",
    "We will run OSeMOSYS in the background using this Jupyter Notebook to control the input data, \n",
    "run the model and extract and visualise the results.\n",
    "\n",
    "If you click on the **Jupyter** logo in the top left-hand corner of the screen, \n",
    "you will see the folder structure containing the OSeMOSYS models used in this lab.\n",
    "\n",
    "In the `model` folder, you will find subfolders containing OSeMOSYS models of increasing complexity.\n",
    "Each subfolder contains a data folder in which you see a number of CSV (comma-separated value) \n",
    "files which you can edit directly in the browser.  \n",
    "Each file relates to one parameter in OSeMOSYS. \n",
    "For example, you could edit the `CapitalCost` of technologies of the `year` model by editing \n",
    "the respective [CSV file](model/year/data/CapitalCost.csv).\n",
    "\n",
    "We use the multi-year model called `year`, which you can find in the [`model/year/data`](model/year/data) folder.\n",
    "\n",
    "## Units\n",
    "\n",
    "Here are the units used throughout the models\n",
    "\n",
    "Parameter | Unit | Description\n",
    ":-- | --: | --:\n",
    "Demand | PJ | Petajoules\n",
    "Capacity | GW | Gigawatts\n",
    "Activity | PJ | Petajoules\n",
    "Capital Cost | M\\$/GW | Million US dollars per Gigawatt\n",
    "Fixed Cost | M\\$/GW | Million US dollars per Gigawatt\n",
    "Variable Cost, Fossil Fuels Extraction/Import | M\\$/PJ | Million US dollars per Petajoule\n",
    "Variable Cost, Renewables | M\\$/GWh | Million US dollars per Gigawatt-hour\n",
    "Operational Life | Yr | Year\n",
    "Emission Activity Ratio | MtCO2/PJ | Million tonnes of CO2 equivalent per petajoule\n",
    "Annual Emission Limit | MtCO2 | Million tonnes of CO2 equivalent\n",
    "Emission Penalty | \\$/tCO2 | US dollars per tonne of CO2 equivalent\n",
    "\n",
    "## Model Structure\n",
    "\n",
    "### Sets\n",
    "\n",
    "Sets are used to define the model structure. For example \n",
    "[YEAR](model/year/data/YEAR.csv), \n",
    "[TIMESLICE](model/year/data/TIMESLICE.csv), \n",
    "[TECHNOLOGY](model/year/data/TECHNOLOGY.csv), \n",
    "[MODE_OF_OPERATION](model/year/data/MODE_OF_OPERATION.csv), \n",
    "[REGION](model/year/data/REGION.csv), \n",
    "[FUEL](model/year/data/FUEL.csv), \n",
    "[EMISSION](model/year/data/EMISSION.csv) etc.\n",
    "\n",
    "_Sets define the basic model structure_\n",
    "\n",
    "### Parameters (\"inputs\")\n",
    "\n",
    "Parameters define the numerical inputs to the model such as costs, demands, constraints for capacity etc.\n",
    "Parameters are indexed over the sets, for example [`CapitalCost`](model/year/data/CapitalCost.csv). \n",
    "This represents an array of costs for every region, technology and year.\n",
    "\n",
    "_Parameters are the inputs that the modeller needs to provide to the model._\n",
    "\n",
    "**Open the [manual](https://osemosys.readthedocs.io/en/latest/manual/Structure%20of%20OSeMOSYS.html#parameters) in a browser window for reference throughout the exercise**\n",
    "\n",
    "### Variables\n",
    "\n",
    "The value of variables is decided by the solver, a piece of software used to \"solve\" the system of equations we use to define the energy system.\n",
    "Broadly, variables are defined the investment decisions, and operational decisions. \n",
    "By changing the value of the decision variables, the solver can minimise the objective function.\n",
    "\n",
    "Variables are also indexed over sets, for example: `Generation(Technology, Year)`. \n",
    "This represents an array of generation by every technology in every year\n",
    "\n",
    "_Variables are the results that the modeller gets from the model_\n",
    "\n",
    "## Running a model\n",
    "\n",
    "Running an OSeMOSYS model using this Jupyter notebook is a two step process. \n",
    "Firstly, you need to create an OSeMOSYS datafile by running the following."
   ]
  },
  {
   "cell_type": "code",
   "execution_count": null,
   "metadata": {},
   "outputs": [],
   "source": [
    "!otoole convert csv datafile model/year/data temp.txt config.yaml"
   ]
  },
  {
   "cell_type": "markdown",
   "metadata": {},
   "source": [
    "\n",
    "Note you need the `!` prepended to the command (this tells the notebook to run this command using the shell rather than Python). Here we create datafile called `temp.txt` from the model data stored in `model/year`.\n",
    "\n",
    "After generating the OSeMOSYS datafile (in this case, called `temp.txt`) we then solve the model using `glpsol`, which is the open-source solver provided by the GNU Math Programming kit.\n"
   ]
  },
  {
   "cell_type": "code",
   "execution_count": null,
   "metadata": {},
   "outputs": [],
   "source": [
    "!glpsol -d temp.txt -m osemosys.txt > osemosys.log"
   ]
  },
  {
   "cell_type": "markdown",
   "metadata": {},
   "source": [
    "    \n",
    "The results are then available in the `results` folder - see them [here](results/). You should also check the `osemosys.log` file to ensure that the model ran correctly.  View it [here](osemosys.log).\n",
    "\n",
    "In the stages below, we load data from the model inputs and results using a Python library called `pandas` and plot them in interactive charts.\n",
    "\n",
    "## Contents\n",
    "\n",
    "- [Stage 1](#Stage-1:-Exploring-the-model) - In this section, we introduce and explore a simple energy system model.\n",
    "- [Stage 2](#Stage-2:-A-new-technology) - We add a new technology to the model.\n",
    "- [Stage 3](#Stage-3:-A-tax-on-pollution) - We add an emissions penalty, imposing a tax upon CO2"
   ]
  },
  {
   "cell_type": "markdown",
   "metadata": {},
   "source": [
    "## Stage 1: Exploring the model\n",
    "\n",
    "### Setting up the timeslices, model horizon and region\n",
    "\n",
    "Production differs across the year - in OSeMOSYS we use `TIMESLICES` to represent the fractions of the year in which different levels of demand exist. This approximates the average demand profile for electricity and other fuels across days and seasons. In our example model, we have defined 6 time-slices:\n",
    "\n",
    "TIMESLICE | Description\n",
    ":--|:--\n",
    "`ID` | Intermediate day\n",
    "`IN` | Intermediate night\n",
    "`SD` | Summer day\n",
    "`SN` | Summer night\n",
    "`WD` | Winter day\n",
    "`WN` | Winter night\n",
    "\n",
    "This example model only runs between 2022 and 2030. \n",
    "Note that this is not long enough to demonstrate what happens when \n",
    "a technology reaches the end of its lifetime, \n",
    "which is particularly important when you impose an emissions constraint.  \n",
    "However, it does show how the model reacts to increasing demand.\n",
    "\n",
    "This model uses a single region `SIMPLICITY` \n",
    "(which shows that this is an adaptation of an example model we use for teaching called Simplicity).\n",
    "\n",
    "### The reference energy system\n",
    "\n",
    "![Reference energy system for a ](img/gassolarwind.svg)\n",
    "\n",
    "### Technologies and Commodities/Fuels\n",
    "\n",
    "In this simple OSeMOSYS model, there are four natural gas technologies - imports of natural gas (`GasImport`), \n",
    "and extraction (`GasExtraction`, `GasExtraction2`, `GasExtraction3`). \n",
    "These technologies feed a natural gas combined-cycle electricity generation plant `NGCC`. \n",
    "This plant produces secondary electricity `SEC_EL` which enters a transmission and distribution technology `TD`. \n",
    "The transmission and distribution technology produces final electricity `FEL`.\n",
    "\n",
    "There are also four coal extraction and import technologies, \n",
    "and these are linked via a coal fired generation plant (`SCC`) and the transmission and distribution technology `TD` \n",
    "in a similar manner to produce final electricity `FEL`.\n",
    "\n",
    "This model also has a solar PV technology (`SOLPV`) and a wind power technology `WIND`.\n",
    "\n",
    "The solar PV technology (`SOLPV`) and wind turbine technology (`WIND`) have the following characteristics:\n",
    "\n",
    "Plant | Parameter | Value\n",
    ":--|:--|--:\n",
    "`SOLPV` | `CapitalCost` | 1700.0\n",
    "`WIND` | `CapitalCost` | 1845.0\n",
    "`SOLPV` | `VariableCost` | 2.5\n",
    "`WIND`| `VariableCost` | 4.17\n",
    "`SOLPV` | `OutputActivityRatio(FEL)` | 1.0\n",
    "`WIND` | `OutputActivityRatio(SEC_EL)` | 1.0\n",
    "`SOLPV` | `ResidualCapacity(2022)` | 2\n",
    "`WIND`| `ResidualCapacity(2022)` | 3\n",
    "\n",
    "Solar PV and Wind have the following capacity factors defined in the file `CapacityFactor.csv`:\n",
    "\n",
    "Timeslice | SOLPV | WIND\n",
    ":--|:--|--:\n",
    "`ID` | 0.3 | 0.25\n",
    "`IN` | 0.0 | 0.25\n",
    "`SD` | 0.4 | 0.25\n",
    "`SN` | 0.0 | 0.25\n",
    "`WD` | 0.25 | 0.25\n",
    "`WN` | 0.0 | 0.25\n",
    "\n",
    "As you can see from the figure above, this model contains multiple gas resources, \n",
    "plus imports, multiple coal resources, plus an import, and a new super-critical coal fired power station.\n",
    "\n",
    "The prices and quantities of the resources are as follows:\n",
    "\n",
    "Resource | Quantity available | Cost of extraction/import\n",
    ":--|--:|--:\n",
    "`GasExtraction` | 10 | 8.0\n",
    "`GasExtraction2` | 15 | 10.0\n",
    "`GasExtraction3` | 30 | 11.0\n",
    "`GasImport` | - | 12.0\n",
    "`CoalExtraction` | 10 | 4.0\n",
    "`CoalExtraction2` | 15 | 5.0\n",
    "`CoalExtraction3` | 30 | 5.5\n",
    "`CoalImport` | - | 12.0\n",
    "\n",
    "These prices and quantities are defined in [`VariableCost.csv`](../edit/model/year/data/VariableCost.csv) and [`TotalTechnologyModelPeriodActivityUpperLimit.csv`](../edit/model/year/data/TotalTechnologyModelPeriodActivityUpperLimit.csv) respectively.\n",
    "\n",
    "The gas-fired (`NGCC`) and coal-fired (`SCC`) power plants have the following characteristics:\n",
    "\n",
    "Plant | Parameter | Value\n",
    ":--|:--|--:\n",
    "`NGCC` | `CapitalCost` | 1100.0\n",
    "`SCC` | `CapitalCost` | 1600.0\n",
    "`NGCC` | `FixedCost` | 44.0\n",
    "`SCC` | `FixedCost` | 56.0\n",
    "`NGCC` | `InputActivityRatio(GAS)` | 1.992\n",
    "`SCC` | `InputActivityRatio(COA)` | 2.120\n",
    "`NGCC` | `OutputActivityRatio(SEC_EL)` | 1.0\n",
    "`SCC` | `OutputActivityRatio(SEC_EL)` | 1.0\n",
    "`NGCC` | `ResidualCapacity` | 30\n",
    "`SCC`| `ResidualCapacity` | 30\n"
   ]
  },
  {
   "cell_type": "markdown",
   "metadata": {},
   "source": [
    "### Model representation of energy market\n",
    "\n",
    "In OSeMOSYS, supply of energy must equal demand for energy. As the quantity of energy demanded increases, energy supply increases accordingly.\n",
    "Demand is completely inelastic - the demand curve is a straight line (imagine a vertical line moving along the x-axis) \n",
    "so the equilibrium point (where the supply and demand curves cross) denotes the marginal cost of production and in this case is equal to the price.\n",
    "\n",
    "Within most energy systems, there are multiple markets for different, related, energy commodities. \n",
    "We can use an OSeMOSYS model to understand the interactions between these different energy markets.\n",
    "\n",
    "In OSeMOSYS, there is a key equation called a \"balancing constraint\". This ensures that energy is conserved in each timeslice. \n",
    "\n",
    "```ampl\n",
    "s.t. EBa11_EnergyBalanceEachTS5{r in REGION, l in TIMESLICE, f in FUEL, y in YEAR}: \n",
    "\tProduction[r,l,f,y] >= Demand[r,l,f,y] + Use[r,l,f,y] \n",
    "\t+ sum{rr in REGION} Trade[r,rr,l,f,y] * TradeRoute[r,rr,f,y];\n",
    "```\n",
    "\n",
    "We can extract some useful information from this equation when we solve the optimisation problem to minimise costs.\n",
    "These data are stored in the result files [`ProductionDual.csv`](results/ProductionDual.csv) and [`ProductionDualAnnual.csv`](results/ProductionDualAnnual.csv)."
   ]
  },
  {
   "cell_type": "markdown",
   "metadata": {},
   "source": [
    "## 1. Edit the Data\n",
    "\n",
    "Try editing some of the model parameters and see what happens to the results of the model.\n",
    "\n",
    "Start with:\n",
    "1. Increasing or decreasing demand [`SpecifiedAnnualDemand`](model/year/data/SpecifiedAnnualDemand.csv)\n",
    "2. Play with changing the [`CapitalCost`](model/year/data/CapitalCost.csv) of the generation technologies\n",
    "3. Try making the fuels more expensive by changing [`VariableCost.csv`](../edit/model/year/data/VariableCost.csv)"
   ]
  },
  {
   "cell_type": "markdown",
   "metadata": {},
   "source": [
    "## 2. Run The Model"
   ]
  },
  {
   "cell_type": "code",
   "execution_count": null,
   "metadata": {},
   "outputs": [],
   "source": [
    "!otoole convert csv datafile model/year/data temp.txt config.yaml\n",
    "!glpsol -d temp.txt -m osemosys.txt > osemosys.log"
   ]
  },
  {
   "cell_type": "markdown",
   "metadata": {},
   "source": [
    "## 3. View the plots\n",
    "\n",
    "The results are then available in the `results` folder - see them [here](results/). You should also check the `osemosys.log` file to ensure that the model ran correctly.  View it [here](osemosys.log)."
   ]
  },
  {
   "cell_type": "code",
   "execution_count": null,
   "metadata": {},
   "outputs": [],
   "source": [
    "outputs = pd.read_csv('model/year/data/OutputActivityRatio.csv')\n",
    "techs_sec_el = outputs[outputs['FUEL'].isin(['SEC_EL'])]['TECHNOLOGY'].unique().tolist()\n",
    "primary_extraction = outputs[outputs['FUEL'].isin(['COA', 'GAS'])]['TECHNOLOGY'].unique().tolist()"
   ]
  },
  {
   "cell_type": "markdown",
   "metadata": {},
   "source": [
    "### Costs"
   ]
  },
  {
   "cell_type": "code",
   "execution_count": null,
   "metadata": {},
   "outputs": [],
   "source": [
    "total_cost = pd.read_csv('results/TotalDiscountedCost.csv')\n",
    "total_cost.plot(x='YEAR', y='VALUE', title='Total Discounted Costs (M$)', kind='bar')"
   ]
  },
  {
   "cell_type": "code",
   "execution_count": null,
   "metadata": {},
   "outputs": [],
   "source": [
    "print(f\"Objective Function: $M {total_cost['VALUE'].sum():.2f}\")"
   ]
  },
  {
   "cell_type": "code",
   "execution_count": null,
   "metadata": {},
   "outputs": [],
   "source": [
    "capital_investment = pd.read_csv('results/CapitalInvestment.csv')\n",
    "capital_investment.plot(x='YEAR', y='VALUE', color='TECHNOLOGY', \n",
    "                        kind='bar', title='Capital Investment by Technology (M$)')"
   ]
  },
  {
   "cell_type": "markdown",
   "metadata": {},
   "source": [
    "### Demand"
   ]
  },
  {
   "cell_type": "code",
   "execution_count": null,
   "metadata": {},
   "outputs": [],
   "source": [
    "demand = pd.read_csv('results/Demand.csv').groupby(['REGION', 'FUEL', 'YEAR']).sum(numeric_only=True).reset_index()\n",
    "demand.plot(x='YEAR', y='VALUE', color='FUEL', title='Demand (PJ)')"
   ]
  },
  {
   "cell_type": "markdown",
   "metadata": {},
   "source": [
    "### Total Capacity"
   ]
  },
  {
   "cell_type": "code",
   "execution_count": null,
   "metadata": {},
   "outputs": [],
   "source": [
    "total_capacity = pd.read_csv('results/TotalCapacityAnnual.csv')\n",
    "total_generation_capacity = total_capacity[total_capacity['TECHNOLOGY'].isin(techs_sec_el)]\n",
    "total_extraction_capacity = total_capacity[total_capacity['TECHNOLOGY'].isin(primary_extraction)]\n",
    "\n",
    "total_generation_capacity.plot(x='YEAR', y='VALUE', color='TECHNOLOGY', kind='bar', \n",
    "    title='Total Annual Generation Capacity (GW)')"
   ]
  },
  {
   "cell_type": "markdown",
   "metadata": {},
   "source": [
    "### New Capacity\n",
    "\n",
    "This plot shows new investments in generation technologies"
   ]
  },
  {
   "cell_type": "code",
   "execution_count": null,
   "metadata": {},
   "outputs": [],
   "source": [
    "capacity = pd.read_csv('results/NewCapacity.csv')\n",
    "new_generation_capacity = capacity[capacity['TECHNOLOGY'].isin(techs_sec_el)]\n",
    "new_extraction_capacity = capacity[capacity['TECHNOLOGY'].isin(primary_extraction)]"
   ]
  },
  {
   "cell_type": "code",
   "execution_count": null,
   "metadata": {},
   "outputs": [],
   "source": [
    "new_generation_capacity.plot(x='YEAR', y='VALUE', color='TECHNOLOGY', kind='bar', title='New Capacity (GW)')"
   ]
  },
  {
   "cell_type": "markdown",
   "metadata": {},
   "source": [
    "### Accumulated New Capacity in Extraction and Import Technologies"
   ]
  },
  {
   "cell_type": "code",
   "execution_count": null,
   "metadata": {},
   "outputs": [],
   "source": [
    "new_extraction_capacity.plot(x='YEAR', y='VALUE', color='TECHNOLOGY', kind='bar', title='Accumulated New Capacity in Extraction and Import Technologies (PJ)')"
   ]
  },
  {
   "cell_type": "markdown",
   "metadata": {},
   "source": [
    "### Production of electricity"
   ]
  },
  {
   "cell_type": "code",
   "execution_count": null,
   "metadata": {},
   "outputs": [],
   "source": [
    "production = pd.read_csv('results/ProductionByTechnologyAnnual.csv')\n",
    "generation_production = production[production['TECHNOLOGY'].isin(techs_sec_el)].groupby(by=['TECHNOLOGY', 'FUEL', 'YEAR']).sum(numeric_only=True).reset_index()\n",
    "extraction_production = production[production['TECHNOLOGY'].isin(primary_extraction)].groupby(by=['TECHNOLOGY', 'FUEL', 'YEAR']).sum(numeric_only=True)\n",
    "\n",
    "generation_production.plot(x='YEAR', y='VALUE', color='TECHNOLOGY', kind='bar', title='Electricity Production (PJ)')"
   ]
  },
  {
   "cell_type": "markdown",
   "metadata": {},
   "source": [
    "### Extraction Production"
   ]
  },
  {
   "cell_type": "code",
   "execution_count": null,
   "metadata": {},
   "outputs": [],
   "source": [
    "extraction_production.reset_index().plot(x='YEAR', y='VALUE', color='TECHNOLOGY', kind='bar', title='Extraction (PJ)')"
   ]
  },
  {
   "cell_type": "markdown",
   "metadata": {},
   "source": [
    "### Emissions"
   ]
  },
  {
   "cell_type": "code",
   "execution_count": null,
   "metadata": {},
   "outputs": [],
   "source": [
    "emissions = pd.read_csv('results/AnnualEmissions.csv')\n",
    "emissions.plot(x='YEAR', y='VALUE', title='CO2 emissions (MtCO2e)', kind='bar')"
   ]
  },
  {
   "cell_type": "code",
   "execution_count": null,
   "metadata": {},
   "outputs": [],
   "source": [
    "tech_emissions = pd.read_csv('results/AnnualTechnologyEmission.csv')\n",
    "tech_emissions.plot(x='YEAR', y='VALUE', color='TECHNOLOGY', kind='bar', title='CO2 Emissions by Technology (MtCO2e)')"
   ]
  },
  {
   "cell_type": "markdown",
   "metadata": {},
   "source": [
    "# Stage 2: A new technology\n",
    "\n",
    "To add a new technology into the OSeMOSYS model stored you will need to edit the following files: \n",
    "\n",
    "  - `InputActivityRatio.csv`, \n",
    "  - `OutputActivityRatio.csv`,\n",
    "  - `CapacityFactor.csv`\n",
    "  - `OperationalLife.csv`, \n",
    "  - `ResidualCapacity.csv`, \n",
    "  - `TECHNOLOGY.csv`, \n",
    "  - `FixedCost.csv` and \n",
    "  - `VariableCost.csv`."
   ]
  },
  {
   "cell_type": "markdown",
   "metadata": {},
   "source": [
    "# Stage 3: A tax on pollution\n",
    "\n",
    "In this stage, we'll now implement a financial penalty for emission of CO2.  \n"
   ]
  },
  {
   "cell_type": "markdown",
   "metadata": {},
   "source": [
    "### Adding an emissions penalty to OSeMOSYS\n",
    "\n",
    "To impose a financial penalty in OSeMOSYS we can edit the [EmissionsPenalty](../edit/model/year/data/EmissionsPenalty.csv) parameter file. Units are \\$/tCO2.\n",
    "\n",
    "You'll need to add a new line to the parameter file like so for each year from 2022 to 2030:\n",
    "\n",
    "    SIMPLICITY,CO2,2022,50\n",
    "    SIMPLICITY,CO2,2023,50    \n",
    "    etc.    \n",
    "    \n",
    "First try a value of $50/tCO2.\n",
    "\n",
    "### Use an emissions cap instead\n",
    "\n",
    "To enter an emissions cap in OSeMOSYS, edit the [ModelPeriodEmissionLimit.csv](../edit/model/year/data/ModelPeriodEmissionLimit.csv) parameter file.\n",
    "For example, to specify that the only 20 MtCO2e are emitted between 2022 and 2030, enter:\n",
    "\n",
    "    SIMPLICITY,CO2,20"
   ]
  }
 ],
 "metadata": {
  "celltoolbar": "Raw Cell Format",
  "kernelspec": {
   "display_name": "Python 3.10.6 ('life_academy')",
   "language": "python",
   "name": "python3"
  },
  "language_info": {
   "codemirror_mode": {
    "name": "ipython",
    "version": 3
   },
   "file_extension": ".py",
   "mimetype": "text/x-python",
   "name": "python",
   "nbconvert_exporter": "python",
   "pygments_lexer": "ipython3",
   "version": "3.10.6"
  },
  "vscode": {
   "interpreter": {
    "hash": "26f1cd28636088d2f453074d5b1e396f09b35d00a6d9016caa66ed78947024e8"
   }
  }
 },
 "nbformat": 4,
 "nbformat_minor": 4
}
